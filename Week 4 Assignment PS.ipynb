{
 "cells": [
  {
   "cell_type": "markdown",
   "metadata": {},
   "source": [
    "<center>\n",
    "    <img src=\"https://cf-courses-data.s3.us.cloud-object-storage.appdomain.cloud/IBMDeveloperSkillsNetwork-DS0105EN-SkillsNetwork/labs/Module2/images/SN_web_lightmode.png\" width=\"300\" alt=\"cognitiveclass.ai logo\"  />\n",
    "</center>\n"
   ]
  },
  {
   "cell_type": "markdown",
   "metadata": {},
   "source": [
    "#### Add your code below following the instructions given in the course\n"
   ]
  },
  {
   "cell_type": "markdown",
   "metadata": {},
   "source": [
    "My Jupyter Notebook on IBM Studio"
   ]
  },
  {
   "cell_type": "markdown",
   "metadata": {},
   "source": [
    "**Perdamen Sagala**\n",
    "\n",
    "Data Scientist"
   ]
  },
  {
   "cell_type": "markdown",
   "metadata": {},
   "source": [
    "*I am interested in data science because it will help to make better decision*"
   ]
  },
  {
   "cell_type": "markdown",
   "metadata": {},
   "source": [
    "*I am interested in data science because it will help to make better decision*"
   ]
  },
  {
   "cell_type": "markdown",
   "metadata": {
    "tags": []
   },
   "source": [
    "### Compute 1+9"
   ]
  },
  {
   "cell_type": "code",
   "execution_count": 2,
   "metadata": {},
   "outputs": [
    {
     "data": {
      "text/plain": [
       "10"
      ]
     },
     "execution_count": 2,
     "metadata": {},
     "output_type": "execute_result"
    }
   ],
   "source": [
    "1+9"
   ]
  },
  {
   "cell_type": "markdown",
   "metadata": {},
   "source": [
    "***\n",
    "This is a sentence with horizontal rule\n",
    "***\n",
    "\n",
    "This is bulleted list of countries that speak Malay\n",
    "- Indonesia\n",
    "- Malaysia\n",
    "- Brunei\n",
    "\n",
    "This is numbered list of data related jobs\n",
    "1. Data Analyst\n",
    "2. Business Analyst\n",
    "3. Data Scientist\n",
    "\n",
    "This is an example of a table\n",
    "\n",
    "| Region   | Country  |\n",
    "| -------- | -------- |\n",
    "| Asia            | China           |\n",
    "| Europe          | Spain           |\n",
    "\n",
    "\n",
    "Here is Coursera link [https://www.coursera.org/]"
   ]
  },
  {
   "cell_type": "markdown",
   "metadata": {},
   "source": [
    "***\n",
    "This is a sentence with horizontal rule\n",
    "***\n",
    "\n",
    "This is bulleted list of countries that speak Malay\n",
    "- Indonesia\n",
    "- Malaysia\n",
    "- Brunei\n",
    "\n",
    "This is numbered list of data related jobs\n",
    "1. Data Analyst\n",
    "2. Business Analyst\n",
    "3. Data Scientist\n",
    "\n",
    "This is an example of a table\n",
    "\n",
    "| Region   | Country  |\n",
    "| -------- | -------- |\n",
    "| Asia            | China           |\n",
    "| Europe          | Spain           |\n",
    "\n",
    "\n",
    "Here is Coursera link [https://www.coursera.org/]"
   ]
  },
  {
   "cell_type": "code",
   "execution_count": null,
   "metadata": {},
   "outputs": [],
   "source": []
  }
 ],
 "metadata": {
  "kernelspec": {
   "display_name": "Python",
   "language": "python",
   "name": "conda-env-python-py"
  },
  "language_info": {
   "codemirror_mode": {
    "name": "ipython",
    "version": 3
   },
   "file_extension": ".py",
   "mimetype": "text/x-python",
   "name": "python",
   "nbconvert_exporter": "python",
   "pygments_lexer": "ipython3",
   "version": "3.7.12"
  }
 },
 "nbformat": 4,
 "nbformat_minor": 4
}
